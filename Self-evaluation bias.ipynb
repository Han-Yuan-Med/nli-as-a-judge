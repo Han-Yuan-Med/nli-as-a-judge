{
 "cells": [
  {
   "cell_type": "code",
   "execution_count": 1,
   "id": "3c683308-fcd8-43f6-bd42-8fe7b3f4a669",
   "metadata": {},
   "outputs": [],
   "source": [
    "import torch\n",
    "import pandas as pd\n",
    "import numpy as np\n",
    "from scipy.stats import ranksums\n",
    "from scipy.stats import gaussian_kde\n",
    "import matplotlib.pyplot as plt\n",
    "from itertools import chain"
   ]
  },
  {
   "cell_type": "code",
   "execution_count": 2,
   "id": "802bb5b5-1749-4418-9c2a-519f8c8c0ade",
   "metadata": {},
   "outputs": [],
   "source": [
    "base_path='/axp/rim/bdlml/dev/ywu39/projects/NLIinference/'\n",
    "m='gemma_2_2b'\n",
    "df1fac = pd.read_csv(f'{base_path}{m}_fac_part1.csv')\n",
    "df2fac = pd.read_csv(f'{base_path}{m}_fac_part2.csv')\n",
    "df3fac = pd.read_csv(f'{base_path}{m}_fac_part3.csv')\n",
    "merged_dffac = pd.concat([df1fac, df2fac, df3fac], ignore_index=True)\n",
    "df1cau = pd.read_csv(f'{base_path}{m}_cau_part1.csv')\n",
    "df2cau = pd.read_csv(f'{base_path}{m}_cau_part2.csv')\n",
    "df3cau = pd.read_csv(f'{base_path}{m}_cau_part3.csv')\n",
    "merged_dfcau = pd.concat([df1cau, df2cau, df3cau], ignore_index=True)\n",
    "\n",
    "df1afac = pd.read_csv(f'{base_path}merged_part1_facselfevaluation.csv')\n",
    "df2afac = pd.read_csv(f'{base_path}merged_part2_facselfevaluation.csv')\n",
    "df3afac = pd.read_csv(f'{base_path}merged_part3_facselfevaluation.csv')\n",
    "merged_dfafac = pd.concat([df1afac, df2afac, df3afac], ignore_index=True)\n",
    "df1acau = pd.read_csv(f'{base_path}merged_part1_causelfevaluation.csv')\n",
    "df2acau = pd.read_csv(f'{base_path}merged_part2_causelfevaluation.csv')\n",
    "df3acau = pd.read_csv(f'{base_path}merged_part3_causelfevaluation.csv')\n",
    "merged_dfacau = pd.concat([df1acau, df2acau, df3acau], ignore_index=True)\n",
    "\n",
    "merged_dffac['origin'] = merged_dfafac['origin']\n",
    "merged_dfcau['origin'] = merged_dfacau['origin']"
   ]
  },
  {
   "cell_type": "code",
   "execution_count": 3,
   "id": "f3d32a10-c1d9-4438-b1f5-668a6d01f7c0",
   "metadata": {},
   "outputs": [],
   "source": [
    "facself = merged_dffac[merged_dffac[\"origin\"] == 'facgemma']\n",
    "facother = merged_dffac[merged_dffac[\"origin\"].isin(['facllama', 'facphi'])]\n",
    "\n",
    "\n",
    "cauself = merged_dfcau[merged_dfcau[\"origin\"] == 'caugemma']\n",
    "cauother = merged_dfcau[merged_dfcau[\"origin\"].isin(['caullama', 'cauphi'])]\n",
    "\n",
    "var_name = f\"facselfprob_{m}\"\n",
    "globals()[var_name] = facself['Prob_Yes']\n",
    "var_name = f\"facotherprob_{m}\"\n",
    "globals()[var_name] = facother['Prob_Yes']\n",
    "var_name = f\"causelfprob_{m}\"\n",
    "globals()[var_name] = cauself['Prob_Yes']\n",
    "var_name = f\"cauotherprob_{m}\"\n",
    "globals()[var_name] = cauother['Prob_Yes']\n",
    "\n",
    "\n",
    "df1fac_pos = pd.read_csv(f'{base_path}{m}_fac_pos_part1.csv')\n",
    "df2fac_pos = pd.read_csv(f'{base_path}{m}_fac_pos_part2.csv')\n",
    "df3fac_pos = pd.read_csv(f'{base_path}{m}_fac_pos_part3.csv')\n",
    "merged_dffac_pos = pd.concat([df1fac_pos, df2fac_pos, df3fac_pos], ignore_index=True)\n",
    "df1cau_pos = pd.read_csv(f'{base_path}{m}_cau_pos_part1.csv')\n",
    "df2cau_pos = pd.read_csv(f'{base_path}{m}_cau_pos_part2.csv')\n",
    "df3cau_pos = pd.read_csv(f'{base_path}{m}_cau_pos_part3.csv')\n",
    "merged_dfcau_pos = pd.concat([df1cau_pos, df2cau_pos, df3cau_pos], ignore_index=True)\n",
    "\n",
    "df1afac = pd.read_csv(f'{base_path}merged_part1_facselfevaluation.csv')\n",
    "df2afac = pd.read_csv(f'{base_path}merged_part2_facselfevaluation.csv')\n",
    "df3afac = pd.read_csv(f'{base_path}merged_part3_facselfevaluation.csv')\n",
    "merged_dfafac = pd.concat([df1afac, df2afac, df3afac], ignore_index=True)\n",
    "df1acau = pd.read_csv(f'{base_path}merged_part1_causelfevaluation.csv')\n",
    "df2acau = pd.read_csv(f'{base_path}merged_part2_causelfevaluation.csv')\n",
    "df3acau = pd.read_csv(f'{base_path}merged_part3_causelfevaluation.csv')\n",
    "merged_dfacau = pd.concat([df1acau, df2acau, df3acau], ignore_index=True)\n",
    "\n",
    "merged_dffac_pos['origin'] = merged_dfafac['origin']\n",
    "merged_dfcau_pos['origin'] = merged_dfacau['origin']\n",
    "\n",
    "facself_pos = merged_dffac_pos[merged_dffac_pos[\"origin\"] == 'facgemma']\n",
    "facother_pos = merged_dffac_pos[merged_dffac_pos[\"origin\"].isin(['facllama', 'facphi'])]\n",
    "\n",
    "\n",
    "cauself_pos = merged_dfcau_pos[merged_dfcau_pos[\"origin\"] == 'caugemma']\n",
    "cauother_pos = merged_dfcau_pos[merged_dfcau_pos[\"origin\"].isin(['caullama', 'cauphi'])]\n",
    "\n",
    "var_name = f\"facselfprob_{m}_pos\"\n",
    "globals()[var_name] = facself_pos['Prob_Yes']\n",
    "var_name = f\"facotherprob_{m}_pos\"\n",
    "globals()[var_name] = facother_pos['Prob_Yes']\n",
    "var_name = f\"causelfprob_{m}_pos\"\n",
    "globals()[var_name] = cauself_pos['Prob_Yes']\n",
    "var_name = f\"cauotherprob_{m}_pos\"\n",
    "globals()[var_name] = cauother_pos['Prob_Yes']\n",
    "\n",
    "\n",
    "var_name = f\"facselfprob_{m}_ave\"\n",
    "globals()[var_name] = (globals()[f\"facselfprob_{m}\"]+globals()[f\"facselfprob_{m}_pos\"])/2\n",
    "var_name = f\"facotherprob_{m}_ave\"\n",
    "globals()[var_name] = (globals()[f\"facotherprob_{m}\"]+globals()[f\"facotherprob_{m}_pos\"])/2\n",
    "var_name = f\"causelfprob_{m}_ave\"\n",
    "globals()[var_name] = (globals()[f\"causelfprob_{m}\"]+globals()[f\"causelfprob_{m}_pos\"])/2\n",
    "var_name = f\"cauotherprob_{m}_ave\"\n",
    "globals()[var_name] = (globals()[f\"cauotherprob_{m}\"]+globals()[f\"cauotherprob_{m}_pos\"])/2"
   ]
  },
  {
   "cell_type": "code",
   "execution_count": 4,
   "id": "04ac4d19-4d72-4631-abdf-164b453dd742",
   "metadata": {},
   "outputs": [
    {
     "data": {
      "text/plain": [
       "RanksumsResult(statistic=0.43377580777792013, pvalue=0.33222562546367584)"
      ]
     },
     "execution_count": 4,
     "metadata": {},
     "output_type": "execute_result"
    }
   ],
   "source": [
    "#factuality pretrain\n",
    "ranksums(facselfprob_gemma_2_2b_ave, facotherprob_gemma_2_2b_ave, alternative='greater')"
   ]
  },
  {
   "cell_type": "code",
   "execution_count": 5,
   "id": "b3696b1c-b459-478b-877c-25e64002592d",
   "metadata": {},
   "outputs": [
    {
     "data": {
      "text/plain": [
       "RanksumsResult(statistic=0.2862786356139887, pvalue=0.3873323599943601)"
      ]
     },
     "execution_count": 5,
     "metadata": {},
     "output_type": "execute_result"
    }
   ],
   "source": [
    "#causality pretrain\n",
    "ranksums(causelfprob_gemma_2_2b_ave, cauotherprob_gemma_2_2b_ave, alternative='greater')"
   ]
  },
  {
   "cell_type": "code",
   "execution_count": 6,
   "id": "8016d842-6ebe-4fe8-a393-47bee4f1ed96",
   "metadata": {},
   "outputs": [],
   "source": [
    "m='gemma_2_2b'\n",
    "df1fac = pd.read_csv(f'{base_path}{m}_fpft_fac_results_0.csv')\n",
    "df2fac = pd.read_csv(f'{base_path}{m}_fpft_fac_results_1.csv')\n",
    "df3fac = pd.read_csv(f'{base_path}{m}_fpft_fac_results_2.csv')\n",
    "merged_dffac = pd.concat([df1fac, df2fac, df3fac], ignore_index=True)\n",
    "df1cau = pd.read_csv(f'{base_path}{m}_fpft_cau_results_0.csv')\n",
    "df2cau = pd.read_csv(f'{base_path}{m}_fpft_cau_results_1.csv')\n",
    "df3cau = pd.read_csv(f'{base_path}{m}_fpft_cau_results_2.csv')\n",
    "merged_dfcau = pd.concat([df1cau, df2cau, df3cau], ignore_index=True)\n",
    "\n",
    "df1afac = pd.read_csv(f'{base_path}merged_part1_facselfevaluation.csv')\n",
    "df2afac = pd.read_csv(f'{base_path}merged_part2_facselfevaluation.csv')\n",
    "df3afac = pd.read_csv(f'{base_path}merged_part3_facselfevaluation.csv')\n",
    "merged_dfafac = pd.concat([df1afac, df2afac, df3afac], ignore_index=True)\n",
    "df1acau = pd.read_csv(f'{base_path}merged_part1_causelfevaluation.csv')\n",
    "df2acau = pd.read_csv(f'{base_path}merged_part2_causelfevaluation.csv')\n",
    "df3acau = pd.read_csv(f'{base_path}merged_part3_causelfevaluation.csv')\n",
    "merged_dfacau = pd.concat([df1acau, df2acau, df3acau], ignore_index=True)\n",
    "\n",
    "merged_dffac['origin'] = merged_dfafac['origin']\n",
    "merged_dfcau['origin'] = merged_dfacau['origin']"
   ]
  },
  {
   "cell_type": "code",
   "execution_count": 7,
   "id": "c63ed6ff-f4b6-4bc0-8d03-5f8c89ab5831",
   "metadata": {},
   "outputs": [],
   "source": [
    "facself = merged_dffac[merged_dffac[\"origin\"] == 'facgemma']\n",
    "facother = merged_dffac[merged_dffac[\"origin\"].isin(['facllama', 'facphi'])]\n",
    "\n",
    "\n",
    "cauself = merged_dfcau[merged_dfcau[\"origin\"] == 'caugemma']\n",
    "cauother = merged_dfcau[merged_dfcau[\"origin\"].isin(['caullama', 'cauphi'])]\n",
    "\n",
    "var_name = f\"facselfprob_{m}_ave\"\n",
    "globals()[var_name] = facself['Prob_Yes']\n",
    "var_name = f\"facotherprob_{m}_ave\"\n",
    "globals()[var_name] = facother['Prob_Yes']\n",
    "var_name = f\"causelfprob_{m}_ave\"\n",
    "globals()[var_name] = cauself['Prob_Yes']\n",
    "var_name = f\"cauotherprob_{m}_ave\"\n",
    "globals()[var_name] = cauother['Prob_Yes']"
   ]
  },
  {
   "cell_type": "code",
   "execution_count": 8,
   "id": "8ec41c83-7f68-4b25-a477-ddecdc5ff217",
   "metadata": {},
   "outputs": [
    {
     "data": {
      "text/plain": [
       "RanksumsResult(statistic=-0.9027226269972932, pvalue=0.8166634377850506)"
      ]
     },
     "execution_count": 8,
     "metadata": {},
     "output_type": "execute_result"
    }
   ],
   "source": [
    "#factuality with finetune\n",
    "ranksums(facselfprob_gemma_2_2b_ave, facotherprob_gemma_2_2b_ave, alternative='greater')"
   ]
  },
  {
   "cell_type": "code",
   "execution_count": 9,
   "id": "9d22b6c1-05d8-4032-b677-47dc4dcc1709",
   "metadata": {},
   "outputs": [
    {
     "data": {
      "text/plain": [
       "RanksumsResult(statistic=-2.14494267733781, pvalue=0.9840212847763574)"
      ]
     },
     "execution_count": 9,
     "metadata": {},
     "output_type": "execute_result"
    }
   ],
   "source": [
    "#causality finetune\n",
    "ranksums(causelfprob_gemma_2_2b_ave, cauotherprob_gemma_2_2b_ave, alternative='greater')"
   ]
  },
  {
   "cell_type": "code",
   "execution_count": null,
   "id": "32e21f65-d319-4423-a33b-5a0ed4a30d27",
   "metadata": {},
   "outputs": [],
   "source": []
  }
 ],
 "metadata": {
  "kernelspec": {
   "display_name": "Python 3",
   "language": "python",
   "name": "python3"
  },
  "language_info": {
   "codemirror_mode": {
    "name": "ipython",
    "version": 3
   },
   "file_extension": ".py",
   "mimetype": "text/x-python",
   "name": "python",
   "nbconvert_exporter": "python",
   "pygments_lexer": "ipython3",
   "version": "3.7.13"
  }
 },
 "nbformat": 4,
 "nbformat_minor": 5
}
