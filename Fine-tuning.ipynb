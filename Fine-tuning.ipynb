{
 "cells": [
  {
   "cell_type": "code",
   "execution_count": 1,
   "id": "7993099c-a7ea-4dc7-83a7-3817746ef7b9",
   "metadata": {},
   "outputs": [],
   "source": [
    "import torch\n",
    "import pandas as pd\n",
    "import numpy as np\n",
    "from scipy.stats import ranksums\n",
    "from scipy.stats import gaussian_kde\n",
    "import matplotlib.pyplot as plt\n",
    "from itertools import chain"
   ]
  },
  {
   "cell_type": "code",
   "execution_count": 2,
   "id": "a10ff738-fa27-4e48-8b56-bf50ac780436",
   "metadata": {},
   "outputs": [],
   "source": [
    "base_path='/axp/rim/bdlml/dev/ywu39/projects/NLIinference/'\n",
    "m='deberta'\n",
    "merged_dffac = pd.read_csv(f'{base_path}nli_inference_{m}_fac.csv')\n",
    "merged_dfcau = pd.read_csv(f'{base_path}nli_inference_{m}_cau.csv')\n",
    "\n",
    "df1afac = pd.read_csv(f'{base_path}merged_part1_fac.csv')\n",
    "df2afac = pd.read_csv(f'{base_path}merged_part2_fac.csv')\n",
    "df3afac = pd.read_csv(f'{base_path}merged_part3_fac.csv')\n",
    "merged_dfafac = pd.concat([df1afac, df2afac, df3afac], ignore_index=True)\n",
    "df1acau = pd.read_csv(f'{base_path}merged_part1_cau.csv')\n",
    "df2acau = pd.read_csv(f'{base_path}merged_part2_cau.csv')\n",
    "df3acau = pd.read_csv(f'{base_path}merged_part3_cau.csv')\n",
    "merged_dfacau = pd.concat([df1acau, df2acau, df3acau], ignore_index=True)\n",
    "\n",
    "merged_dffac['origin'] = merged_dfafac['origin']\n",
    "merged_dfcau['origin'] = merged_dfacau['origin']\n",
    "\n",
    "fac = merged_dffac[merged_dffac[\"origin\"] == 'fac']\n",
    "nofac = merged_dffac[merged_dffac[\"origin\"] == 'nofac']\n",
    "#var_name = f\"cau_{m}\"\n",
    "#globals()[var_name] \n",
    "cau = merged_dfcau[merged_dfcau[\"origin\"] == 'cau']\n",
    "nocau = merged_dfcau[merged_dfcau[\"origin\"] == 'nocau']\n",
    "\n",
    "var_name = f\"facprob_{m}\"\n",
    "globals()[var_name] = fac['entailment_prob']/(fac['entailment_prob']+fac['contradiction_prob'])\n",
    "var_name = f\"nofacprob_{m}\"\n",
    "globals()[var_name] = nofac['entailment_prob']/(nofac['entailment_prob']+nofac['contradiction_prob'])\n",
    "var_name = f\"cauprob_{m}\"\n",
    "globals()[var_name] = cau['entailment_prob']/(cau['entailment_prob']+cau['contradiction_prob'])\n",
    "var_name = f\"nocauprob_{m}\"\n",
    "globals()[var_name] = nocau['entailment_prob']/(nocau['entailment_prob']+nocau['contradiction_prob'])"
   ]
  },
  {
   "cell_type": "code",
   "execution_count": 3,
   "id": "28c50f58-9bfc-4ec8-b874-56aefc0aec3a",
   "metadata": {},
   "outputs": [
    {
     "name": "stdout",
     "output_type": "stream",
     "text": [
      "RanksumsResult(statistic=9.72855556695498, pvalue=1.1390232481267544e-22)\n",
      "RanksumsResult(statistic=5.106533501623232, pvalue=1.6406122943002085e-07)\n"
     ]
    }
   ],
   "source": [
    "#factuality pretrain\n",
    "print(ranksums(nofacprob_deberta, facprob_deberta, alternative='greater'))\n",
    "#causality pretrain\n",
    "print(ranksums(nocauprob_deberta, cauprob_deberta, alternative='greater'))"
   ]
  },
  {
   "cell_type": "code",
   "execution_count": 4,
   "id": "99d8f7c5-a645-4d57-b9dc-4607ace59e93",
   "metadata": {},
   "outputs": [],
   "source": [
    "m='deberta'\n",
    "merged_dffac = pd.read_csv(f'{base_path}nli_pred_{m}_batchsample_fac_whole.csv')\n",
    "merged_dfcau = pd.read_csv(f'{base_path}nli_pred_{m}_batchsample_cau_whole.csv')\n",
    "\n",
    "df1afac = pd.read_csv(f'{base_path}merged_part1_fac.csv')\n",
    "df2afac = pd.read_csv(f'{base_path}merged_part2_fac.csv')\n",
    "df3afac = pd.read_csv(f'{base_path}merged_part3_fac.csv')\n",
    "merged_dfafac = pd.concat([df1afac, df2afac, df3afac], ignore_index=True)\n",
    "df1acau = pd.read_csv(f'{base_path}merged_part1_cau.csv')\n",
    "df2acau = pd.read_csv(f'{base_path}merged_part2_cau.csv')\n",
    "df3acau = pd.read_csv(f'{base_path}merged_part3_cau.csv')\n",
    "merged_dfacau = pd.concat([df1acau, df2acau, df3acau], ignore_index=True)\n",
    "\n",
    "merged_dffac['origin'] = merged_dfafac['origin']\n",
    "merged_dfcau['origin'] = merged_dfacau['origin']\n",
    "\n",
    "fac = merged_dffac[merged_dffac[\"origin\"] == 'fac']\n",
    "nofac = merged_dffac[merged_dffac[\"origin\"] == 'nofac']\n",
    "#var_name = f\"cau_{m}\"\n",
    "#globals()[var_name] \n",
    "cau = merged_dfcau[merged_dfcau[\"origin\"] == 'cau']\n",
    "nocau = merged_dfcau[merged_dfcau[\"origin\"] == 'nocau']\n",
    "\n",
    "var_name = f\"facprob_{m}\"\n",
    "globals()[var_name] = fac['entailment_prob']/(fac['entailment_prob']+fac['contradiction_prob'])\n",
    "var_name = f\"nofacprob_{m}\"\n",
    "globals()[var_name] = nofac['entailment_prob']/(nofac['entailment_prob']+nofac['contradiction_prob'])\n",
    "var_name = f\"cauprob_{m}\"\n",
    "globals()[var_name] = cau['entailment_prob']/(cau['entailment_prob']+cau['contradiction_prob'])\n",
    "var_name = f\"nocauprob_{m}\"\n",
    "globals()[var_name] = nocau['entailment_prob']/(nocau['entailment_prob']+nocau['contradiction_prob'])"
   ]
  },
  {
   "cell_type": "code",
   "execution_count": 5,
   "id": "1061e410-02c5-4ded-863d-aecbf9a2992b",
   "metadata": {},
   "outputs": [
    {
     "name": "stdout",
     "output_type": "stream",
     "text": [
      "RanksumsResult(statistic=14.202615632546197, pvalue=4.4127879503746425e-46)\n",
      "RanksumsResult(statistic=27.31996016640904, pvalue=1.2286942899391805e-164)\n"
     ]
    }
   ],
   "source": [
    "#factuality with finetune\n",
    "print(ranksums(nofacprob_deberta, facprob_deberta, alternative='greater'))\n",
    "#causality with finetune\n",
    "print(ranksums(nocauprob_deberta, cauprob_deberta, alternative='greater'))"
   ]
  },
  {
   "cell_type": "code",
   "execution_count": null,
   "id": "b804ca0d-6596-4d91-a450-896efbea93fb",
   "metadata": {},
   "outputs": [],
   "source": []
  }
 ],
 "metadata": {
  "kernelspec": {
   "display_name": "Python 3",
   "language": "python",
   "name": "python3"
  },
  "language_info": {
   "codemirror_mode": {
    "name": "ipython",
    "version": 3
   },
   "file_extension": ".py",
   "mimetype": "text/x-python",
   "name": "python",
   "nbconvert_exporter": "python",
   "pygments_lexer": "ipython3",
   "version": "3.7.13"
  }
 },
 "nbformat": 4,
 "nbformat_minor": 5
}
